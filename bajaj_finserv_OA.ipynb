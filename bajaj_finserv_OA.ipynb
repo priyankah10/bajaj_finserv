{
  "nbformat": 4,
  "nbformat_minor": 0,
  "metadata": {
    "colab": {
      "provenance": []
    },
    "kernelspec": {
      "name": "python3",
      "display_name": "Python 3"
    },
    "language_info": {
      "name": "python"
    }
  },
  "cells": [
    {
      "cell_type": "code",
      "execution_count": 1,
      "metadata": {
        "id": "D98hzcyMZ-v7"
      },
      "outputs": [],
      "source": [
        "import json\n",
        "with open('/content/sample_data/DataEngineeringQ2.json') as f:\n",
        "    data = json.load(f)"
      ]
    },
    {
      "cell_type": "markdown",
      "source": [
        "Question 4"
      ],
      "metadata": {
        "id": "uZndwQLIetuQ"
      }
    },
    {
      "cell_type": "code",
      "source": [
        "import pandas as pd\n",
        "patient_details = [record['patientDetails'] for record in data]\n",
        "df = pd.DataFrame(patient_details)\n",
        "df = df.replace(\"\", None)\n",
        "missing_percentage = df.isnull().mean() * 100\n",
        "missing_percentage = missing_percentage.round(2)\n",
        "print(missing_percentage)"
      ],
      "metadata": {
        "colab": {
          "base_uri": "https://localhost:8080/"
        },
        "id": "1SGfvP-LcKss",
        "outputId": "dc8db94d-1282-4d57-f2c3-5c6a787c871f"
      },
      "execution_count": 2,
      "outputs": [
        {
          "output_type": "stream",
          "name": "stdout",
          "text": [
            "_id                   0.00\n",
            "firstName             0.00\n",
            "lastName             70.97\n",
            "emailId             100.00\n",
            "gender               32.26\n",
            "alternateContact     96.77\n",
            "birthDate            32.26\n",
            "phrId                74.19\n",
            "chat                 48.39\n",
            "customId             48.39\n",
            "dtype: float64\n"
          ]
        }
      ]
    },
    {
      "cell_type": "markdown",
      "source": [
        "Question 5\n"
      ],
      "metadata": {
        "id": "Aw_S_Owte-ZM"
      }
    },
    {
      "cell_type": "code",
      "source": [
        "gender_df = df[['gender']]\n",
        "mode_gender = gender_df['gender'].mode()[0]\n",
        "gender_df['gender'] = gender_df['gender'].fillna(mode_gender)\n",
        "female_percentage = (gender_df['gender'] == 'F').mean() * 100\n",
        "print(round(female_percentage, 2))"
      ],
      "metadata": {
        "colab": {
          "base_uri": "https://localhost:8080/"
        },
        "id": "8B6CiAPPcW5r",
        "outputId": "112f511d-88ff-44c1-dc46-c601a7df7b55"
      },
      "execution_count": 3,
      "outputs": [
        {
          "output_type": "stream",
          "name": "stdout",
          "text": [
            "32.26\n"
          ]
        },
        {
          "output_type": "stream",
          "name": "stderr",
          "text": [
            "<ipython-input-3-404362d282ad>:6: SettingWithCopyWarning: \n",
            "A value is trying to be set on a copy of a slice from a DataFrame.\n",
            "Try using .loc[row_indexer,col_indexer] = value instead\n",
            "\n",
            "See the caveats in the documentation: https://pandas.pydata.org/pandas-docs/stable/user_guide/indexing.html#returning-a-view-versus-a-copy\n",
            "  gender_df['gender'] = gender_df['gender'].fillna(mode_gender)\n"
          ]
        }
      ]
    },
    {
      "cell_type": "markdown",
      "source": [],
      "metadata": {
        "id": "PCpdpwJEfCJE"
      }
    },
    {
      "cell_type": "markdown",
      "source": [
        "Question 6"
      ],
      "metadata": {
        "id": "sz5Uj7-UfAzh"
      }
    },
    {
      "cell_type": "code",
      "source": [
        "from datetime import datetime\n",
        "current_year = datetime.now().year\n",
        "def calculate_age(birth_date):\n",
        "    if isinstance(birth_date, str): # Ensure it's a string\n",
        "        birth_year = datetime.fromisoformat(birth_date.replace(\"Z\", \"\")).year\n",
        "        return current_year - birth_year\n",
        "    return None\n",
        "\n",
        "df['age'] = df['birthDate'].apply(calculate_age)\n",
        "def categorize_age(age):\n",
        "    if age is None:\n",
        "        return None\n",
        "    elif age <= 12:\n",
        "        return 'Child'\n",
        "    elif 13 <= age <= 19:\n",
        "        return 'Teen'\n",
        "    elif 20 <= age <= 59:\n",
        "        return 'Adult'\n",
        "    else:\n",
        "        return 'Senior'\n",
        "df['ageGroup'] = df['age'].apply(categorize_age)\n",
        "adult_count = (df['ageGroup'] == 'Adult').sum()\n",
        "print(f\"Number of Adults: {adult_count}\")"
      ],
      "metadata": {
        "colab": {
          "base_uri": "https://localhost:8080/"
        },
        "id": "vr_Pp3f3ctTC",
        "outputId": "eee7ed91-b39f-4f54-caff-5fd1128f9842"
      },
      "execution_count": 6,
      "outputs": [
        {
          "output_type": "stream",
          "name": "stdout",
          "text": [
            "Number of Adults: 21\n"
          ]
        }
      ]
    },
    {
      "cell_type": "markdown",
      "source": [
        "Question 7\n"
      ],
      "metadata": {
        "id": "caxVJYrwfF9o"
      }
    },
    {
      "cell_type": "code",
      "source": [
        "medicines = [len(record['consultationData']['medicines']) for record in data]\n",
        "average_medicines = sum(medicines) / len(medicines)\n",
        "print(round(average_medicines, 2))"
      ],
      "metadata": {
        "colab": {
          "base_uri": "https://localhost:8080/"
        },
        "id": "35PEVEvHd9jq",
        "outputId": "0f557192-bc1d-4aa7-d880-bac8694ad8a6"
      },
      "execution_count": 7,
      "outputs": [
        {
          "output_type": "stream",
          "name": "stdout",
          "text": [
            "2.13\n"
          ]
        }
      ]
    },
    {
      "cell_type": "markdown",
      "source": [
        "Question 8"
      ],
      "metadata": {
        "id": "dNGjOdUPfpaC"
      }
    },
    {
      "cell_type": "code",
      "source": [
        "from collections import Counter\n",
        "\n",
        "all_medicines = [medicine['medicineName'] for record in data for medicine in record['consultationData']['medicines']]\n",
        "medicine_counts = Counter(all_medicines)\n",
        "third_most_common = medicine_counts.most_common(3)[2][0]\n",
        "print(third_most_common)"
      ],
      "metadata": {
        "colab": {
          "base_uri": "https://localhost:8080/"
        },
        "id": "8d47wpTkeNK9",
        "outputId": "fcc3f3e3-9f76-413c-9682-0c70ef27c3b4"
      },
      "execution_count": 8,
      "outputs": [
        {
          "output_type": "stream",
          "name": "stdout",
          "text": [
            "C\n"
          ]
        }
      ]
    },
    {
      "cell_type": "markdown",
      "source": [
        "Question 9"
      ],
      "metadata": {
        "id": "byg4nruofnLc"
      }
    },
    {
      "cell_type": "code",
      "source": [
        "is_active = [medicine['isActive'] for record in data for medicine in record['consultationData']['medicines']]\n",
        "total = len(is_active)\n",
        "active_count = sum(is_active)\n",
        "inactive_count = total - active_count\n",
        "active_percentage = (active_count / total) * 100\n",
        "inactive_percentage = (inactive_count / total) * 100\n",
        "print(round(active_percentage, 2), round(inactive_percentage, 2))"
      ],
      "metadata": {
        "colab": {
          "base_uri": "https://localhost:8080/"
        },
        "id": "_AkMmY_KeSpr",
        "outputId": "9693d2eb-211f-400b-c38b-9c3268d80eeb"
      },
      "execution_count": 9,
      "outputs": [
        {
          "output_type": "stream",
          "name": "stdout",
          "text": [
            "69.7 30.3\n"
          ]
        }
      ]
    },
    {
      "cell_type": "markdown",
      "source": [
        "Question 10"
      ],
      "metadata": {
        "id": "ABrSoZCRflM3"
      }
    },
    {
      "cell_type": "code",
      "source": [
        "phone_numbers = [record['phoneNumber'] for record in data]\n",
        "def is_valid_phone(phone):\n",
        "    if phone.startswith('+91'):\n",
        "        phone = phone[3:]\n",
        "    elif phone.startswith('91'):\n",
        "        phone = phone[2:]\n",
        "    return phone.isdigit() and len(phone) == 10 and 6000000000 <= int(phone) <= 9999999999\n",
        "\n",
        "valid_count = sum(is_valid_phone(phone) for phone in phone_numbers)\n",
        "print(valid_count)"
      ],
      "metadata": {
        "colab": {
          "base_uri": "https://localhost:8080/"
        },
        "id": "_Stv1KPuez-M",
        "outputId": "522f5834-8bd9-4dbe-99c4-85b9c7d6f6b4"
      },
      "execution_count": 10,
      "outputs": [
        {
          "output_type": "stream",
          "name": "stdout",
          "text": [
            "18\n"
          ]
        }
      ]
    },
    {
      "cell_type": "markdown",
      "source": [
        "Question 11\n"
      ],
      "metadata": {
        "id": "qRCqCYJ5fhPF"
      }
    },
    {
      "cell_type": "code",
      "source": [
        "from scipy.stats import pearsonr\n",
        "ages = [calculate_age(record['patientDetails'].get('birthDate')) for record in data] # Using .get to handle missing keys\n",
        "medicine_counts = [len(record['consultationData']['medicines']) for record in data]\n",
        "valid_data = [(age, count) for age, count in zip(ages, medicine_counts) if age is not None]\n",
        "age_values, medicine_values = zip(*valid_data)\n",
        "correlation, _ = pearsonr(age_values, medicine_values)\n",
        "print(round(correlation, 2))"
      ],
      "metadata": {
        "colab": {
          "base_uri": "https://localhost:8080/"
        },
        "id": "IvgpTrg4fKmM",
        "outputId": "73af649f-1b0f-4886-ce07-427c08436f02"
      },
      "execution_count": 14,
      "outputs": [
        {
          "output_type": "stream",
          "name": "stdout",
          "text": [
            "-0.21\n"
          ]
        }
      ]
    }
  ]
}